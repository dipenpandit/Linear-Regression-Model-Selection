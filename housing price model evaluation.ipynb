{
 "cells": [
  {
   "cell_type": "code",
   "execution_count": 1,
   "id": "86dabbdd",
   "metadata": {},
   "outputs": [],
   "source": [
    "import numpy as np\n",
    "import pandas as pd\n",
    "import matplotlib.pyplot as plt"
   ]
  },
  {
   "cell_type": "markdown",
   "id": "cc496c39",
   "metadata": {},
   "source": [
    "# Data Preprocessing "
   ]
  },
  {
   "cell_type": "code",
   "execution_count": 2,
   "id": "3cbdf702",
   "metadata": {
    "scrolled": true
   },
   "outputs": [
    {
     "data": {
      "text/html": [
       "<div>\n",
       "<style scoped>\n",
       "    .dataframe tbody tr th:only-of-type {\n",
       "        vertical-align: middle;\n",
       "    }\n",
       "\n",
       "    .dataframe tbody tr th {\n",
       "        vertical-align: top;\n",
       "    }\n",
       "\n",
       "    .dataframe thead th {\n",
       "        text-align: right;\n",
       "    }\n",
       "</style>\n",
       "<table border=\"1\" class=\"dataframe\">\n",
       "  <thead>\n",
       "    <tr style=\"text-align: right;\">\n",
       "      <th></th>\n",
       "      <th>size(sqft)</th>\n",
       "      <th>bedrooms</th>\n",
       "      <th>floors</th>\n",
       "      <th>age</th>\n",
       "      <th>Price($1k)</th>\n",
       "    </tr>\n",
       "  </thead>\n",
       "  <tbody>\n",
       "    <tr>\n",
       "      <th>0</th>\n",
       "      <td>952.0</td>\n",
       "      <td>2.0</td>\n",
       "      <td>1.0</td>\n",
       "      <td>65.0</td>\n",
       "      <td>272.0</td>\n",
       "    </tr>\n",
       "    <tr>\n",
       "      <th>1</th>\n",
       "      <td>1240.0</td>\n",
       "      <td>3.0</td>\n",
       "      <td>1.0</td>\n",
       "      <td>64.0</td>\n",
       "      <td>300.0</td>\n",
       "    </tr>\n",
       "    <tr>\n",
       "      <th>2</th>\n",
       "      <td>1950.0</td>\n",
       "      <td>3.0</td>\n",
       "      <td>2.0</td>\n",
       "      <td>17.0</td>\n",
       "      <td>510.0</td>\n",
       "    </tr>\n",
       "    <tr>\n",
       "      <th>3</th>\n",
       "      <td>1730.0</td>\n",
       "      <td>3.0</td>\n",
       "      <td>2.0</td>\n",
       "      <td>42.0</td>\n",
       "      <td>394.0</td>\n",
       "    </tr>\n",
       "    <tr>\n",
       "      <th>4</th>\n",
       "      <td>1960.0</td>\n",
       "      <td>3.0</td>\n",
       "      <td>2.0</td>\n",
       "      <td>15.0</td>\n",
       "      <td>540.0</td>\n",
       "    </tr>\n",
       "  </tbody>\n",
       "</table>\n",
       "</div>"
      ],
      "text/plain": [
       "   size(sqft)  bedrooms  floors   age  Price($1k)\n",
       "0       952.0       2.0     1.0  65.0       272.0\n",
       "1      1240.0       3.0     1.0  64.0       300.0\n",
       "2      1950.0       3.0     2.0  17.0       510.0\n",
       "3      1730.0       3.0     2.0  42.0       394.0\n",
       "4      1960.0       3.0     2.0  15.0       540.0"
      ]
     },
     "execution_count": 2,
     "metadata": {},
     "output_type": "execute_result"
    }
   ],
   "source": [
    "# Loading dataset\n",
    "df = pd.read_csv('houses.csv')\n",
    "df.head()"
   ]
  },
  {
   "cell_type": "code",
   "execution_count": 3,
   "id": "fce22486",
   "metadata": {
    "scrolled": true
   },
   "outputs": [
    {
     "data": {
      "text/plain": [
       "size(sqft)    0\n",
       "bedrooms      0\n",
       "floors        0\n",
       "age           0\n",
       "Price($1k)    0\n",
       "dtype: int64"
      ]
     },
     "execution_count": 3,
     "metadata": {},
     "output_type": "execute_result"
    }
   ],
   "source": [
    "# Checking for null values\n",
    "null_values = df.isnull().sum()\n",
    "null_values"
   ]
  },
  {
   "cell_type": "markdown",
   "id": "d0a62472",
   "metadata": {},
   "source": [
    " "
   ]
  },
  {
   "cell_type": "code",
   "execution_count": 4,
   "id": "589b459a",
   "metadata": {},
   "outputs": [
    {
     "data": {
      "text/plain": [
       "['size(sqft)', 'bedrooms', 'floors', 'age']"
      ]
     },
     "execution_count": 4,
     "metadata": {},
     "output_type": "execute_result"
    }
   ],
   "source": [
    "# Extracting feature names\n",
    "features = [x for x in df.columns if x not in df.columns[-1]] # Removing our target variable\n",
    "features"
   ]
  },
  {
   "cell_type": "code",
   "execution_count": 5,
   "id": "8b9138b3",
   "metadata": {},
   "outputs": [
    {
     "data": {
      "text/plain": [
       "'Price($1k)'"
      ]
     },
     "execution_count": 5,
     "metadata": {},
     "output_type": "execute_result"
    }
   ],
   "source": [
    "# Extracting target name\n",
    "target = df.columns[-1]  \n",
    "target"
   ]
  },
  {
   "cell_type": "markdown",
   "id": "e67410f2",
   "metadata": {},
   "source": [
    "### Splitting dataset into features and target"
   ]
  },
  {
   "cell_type": "code",
   "execution_count": 6,
   "id": "267641c4",
   "metadata": {},
   "outputs": [
    {
     "data": {
      "text/plain": [
       "array([[9.52e+02, 2.00e+00, 1.00e+00, 6.50e+01, 2.72e+02],\n",
       "       [1.24e+03, 3.00e+00, 1.00e+00, 6.40e+01, 3.00e+02],\n",
       "       [1.95e+03, 3.00e+00, 2.00e+00, 1.70e+01, 5.10e+02],\n",
       "       [1.73e+03, 3.00e+00, 2.00e+00, 4.20e+01, 3.94e+02],\n",
       "       [1.96e+03, 3.00e+00, 2.00e+00, 1.50e+01, 5.40e+02]])"
      ]
     },
     "execution_count": 6,
     "metadata": {},
     "output_type": "execute_result"
    }
   ],
   "source": [
    "# converting the dataframe(dataset) into numpy array\n",
    "dataset = np.array(df)\n",
    "dataset[:5]"
   ]
  },
  {
   "cell_type": "code",
   "execution_count": 7,
   "id": "1a1d3a69",
   "metadata": {},
   "outputs": [
    {
     "name": "stdout",
     "output_type": "stream",
     "text": [
      "[[9.52e+02 2.00e+00 1.00e+00 6.50e+01]\n",
      " [1.24e+03 3.00e+00 1.00e+00 6.40e+01]\n",
      " [1.95e+03 3.00e+00 2.00e+00 1.70e+01]\n",
      " [1.73e+03 3.00e+00 2.00e+00 4.20e+01]\n",
      " [1.96e+03 3.00e+00 2.00e+00 1.50e+01]]\n",
      "(100, 4)\n"
     ]
    }
   ],
   "source": [
    "# Slicing features columns only\n",
    "X = dataset[:,:4]\n",
    "print(X[:5])\n",
    "print(X.shape)"
   ]
  },
  {
   "cell_type": "code",
   "execution_count": 8,
   "id": "2b8e524b",
   "metadata": {},
   "outputs": [
    {
     "name": "stdout",
     "output_type": "stream",
     "text": [
      "(100,)\n",
      "[272. 300. 510. 394. 540.]\n"
     ]
    }
   ],
   "source": [
    "# Slicing target column only\n",
    "y = dataset[:,4]\n",
    "print(y.shape)\n",
    "print(y[:5])"
   ]
  },
  {
   "cell_type": "markdown",
   "id": "5dbfeaea",
   "metadata": {},
   "source": [
    "### Feature vs target plot"
   ]
  },
  {
   "cell_type": "code",
   "execution_count": 9,
   "id": "69cb92cc",
   "metadata": {},
   "outputs": [
    {
     "data": {
      "image/png": "[encoded data removed]",
      "text/plain": [
       "<Figure size 1440x360 with 4 Axes>"
      ]
     },
     "metadata": {
      "needs_background": "light"
     },
     "output_type": "display_data"
    }
   ],
   "source": [
    "# getting no. of features\n",
    "m = X.shape[1]\n",
    "\n",
    "# creating a plot of each feature and target\n",
    "fig, ax = plt.subplots(1,m, figsize=(20,5))\n",
    "for i in range(m):\n",
    "    ax[i].scatter(X[:,i], y)\n",
    "    ax[i].set_xlabel(features[i])\n",
    "fig.suptitle('Feature vs target plot')\n",
    "fig.text(0.09, 0.5, target , va='center', rotation='vertical')\n",
    "plt.show()"
   ]
  },
  {
   "cell_type": "markdown",
   "id": "28b39c10",
   "metadata": {},
   "source": [
    "### Splitting dataset into train, test and validation set"
   ]
  },
  {
   "cell_type": "code",
   "execution_count": 10,
   "id": "5a3a9720",
   "metadata": {},
   "outputs": [],
   "source": [
    "from sklearn.model_selection import train_test_split\n",
    "from sklearn.preprocessing import StandardScaler, PolynomialFeatures\n",
    "from sklearn.metrics import mean_squared_error\n",
    "from sklearn.linear_model import LinearRegression"
   ]
  },
  {
   "cell_type": "code",
   "execution_count": 11,
   "id": "43f17cfb",
   "metadata": {},
   "outputs": [],
   "source": [
    "# Get 60% of the dataset as the training set\n",
    "x_train, x_temp, y_train, y_temp = train_test_split(X,y, test_size=0.4, random_state=1)\n",
    "\n",
    "# Split remaining 40% of dataset in two halves i.e. validation set and test set  \n",
    "x_cv, x_test, y_cv, y_test = train_test_split(x_temp, y_temp, test_size = 0.5, random_state=1)"
   ]
  },
  {
   "cell_type": "markdown",
   "id": "706c045b",
   "metadata": {},
   "source": [
    "# Model selection and evaluation"
   ]
  },
  {
   "cell_type": "markdown",
   "id": "45bd6db7",
   "metadata": {},
   "source": [
    "### Adding Polynomial features"
   ]
  },
  {
   "cell_type": "code",
   "execution_count": 12,
   "id": "a17d6494",
   "metadata": {},
   "outputs": [],
   "source": [
    "# training error \n",
    "train_mse = []\n",
    "\n",
    "# cross-validation error \n",
    "cv_mse = []\n",
    "\n",
    "# saving scaler to transform test or prediction data\n",
    "scalers = []\n",
    "\n",
    "# saving models with diff polynomial degree\n",
    "models = []\n",
    "\n",
    "for degree in range(1,11):\n",
    "    \n",
    "    # Adding polynomial features \n",
    "    poly = PolynomialFeatures(degree, include_bias = False)\n",
    "    x_train_poly = poly.fit_transform(x_train)\n",
    "    \n",
    "    # Scaling the features\n",
    "    scaler = StandardScaler()\n",
    "    x_train_poly_scaled = scaler.fit_transform(x_train_poly)\n",
    "    # Appending scaler for each polynomial degree\n",
    "    scalers.append(scaler)\n",
    "    \n",
    "    # Train the model\n",
    "    model = LinearRegression()\n",
    "    model.fit(x_train_poly_scaled, y_train)\n",
    "    # Appending model for each polynomial degree\n",
    "    models.append(model)\n",
    "    \n",
    "    # Calculate the Training MSE\n",
    "    pred = model.predict(x_train_poly_scaled)\n",
    "    train_mse_i = mean_squared_error(y_train, pred)/2\n",
    "    # Appending Training MSE for each polynomial degree\n",
    "    train_mse.append(train_mse_i)\n",
    "    \n",
    "    # Adding Polynomial feature to the validation set and scaling the validation set\n",
    "    x_cv_poly = poly.transform(x_cv)\n",
    "    x_cv_poly_scaled = scaler.transform(x_cv_poly)\n",
    "    \n",
    "    # Calculating the valiation MSE\n",
    "    pred = model.predict(x_cv_poly_scaled)\n",
    "    cv_mse_i = mean_squared_error(y_cv, pred)/2\n",
    "    # Appending Cross Validation MSE for each polynomial degree\n",
    "    cv_mse.append(cv_mse_i)\n",
    "    "
   ]
  },
  {
   "cell_type": "markdown",
   "id": "a5cf306f",
   "metadata": {},
   "source": [
    "### Choosing the best model\n",
    "Model with lowest cross validation mean square erro"
   ]
  },
  {
   "cell_type": "code",
   "execution_count": 13,
   "id": "b20dcd86",
   "metadata": {},
   "outputs": [
    {
     "data": {
      "text/plain": [
       "[225.92037348605143,\n",
       " 158.40001234336447,\n",
       " 62.305409337568335,\n",
       " 19.687068183256454,\n",
       " 1.7310198385381984e-16,\n",
       " 4.2280709732016826e-18,\n",
       " 1.7057218630601926e-19,\n",
       " 1.5388350567983474e-19,\n",
       " 3.963806481962256e-19,\n",
       " 3.0668167866393116e-19]"
      ]
     },
     "execution_count": 13,
     "metadata": {},
     "output_type": "execute_result"
    }
   ],
   "source": [
    "# Mean squared error of training set varying with polynomial degree\n",
    "train_mse"
   ]
  },
  {
   "cell_type": "code",
   "execution_count": 14,
   "id": "27240e39",
   "metadata": {},
   "outputs": [
    {
     "data": {
      "text/plain": [
       "[233.27420374892472,\n",
       " 1653.346716587054,\n",
       " 6.143632558279812e+22,\n",
       " 17977803.12355829,\n",
       " 177333534185.2563,\n",
       " 443219038.5430272,\n",
       " 52583067.09820856,\n",
       " 579764387.6690074,\n",
       " 1439906211.1597738,\n",
       " 2387911780.5079055]"
      ]
     },
     "execution_count": 14,
     "metadata": {},
     "output_type": "execute_result"
    }
   ],
   "source": [
    "# Mean squared error of validation set varying with polynomial degree\n",
    "cv_mse"
   ]
  },
  {
   "cell_type": "code",
   "execution_count": 15,
   "id": "86c269e4",
   "metadata": {},
   "outputs": [],
   "source": [
    "# Plot degree and mean squared errors\n",
    "def plot(degree):\n",
    "    fig, ax = plt.subplots(1,2, figsize=(12,5))\n",
    "    ax[0].plot(degree, train_mse[degree[0]-1:degree[-1]])  # degree --> 1 to 10, indices --> 0 to 9\n",
    "    ax[0].set_xlabel('degree')  \n",
    "    ax[0].set_ylabel('Training MSE ( J_train )')\n",
    "    ax[1].plot(degree, cv_mse[degree[0]-1:degree[-1]])\n",
    "    ax[1].set_xlabel('degree')\n",
    "    ax[1].set_ylabel('Cross Validation MSE ( J_cv )')\n",
    "    fig.suptitle('Traning MSE, Validation MSE VS Degree ')\n"
   ]
  },
  {
   "cell_type": "code",
   "execution_count": 16,
   "id": "723518f0",
   "metadata": {},
   "outputs": [
    {
     "data": {
      "image/png": "[encoded data removed]",
      "text/plain": [
       "<Figure size 864x360 with 2 Axes>"
      ]
     },
     "metadata": {
      "needs_background": "light"
     },
     "output_type": "display_data"
    }
   ],
   "source": [
    "# Plotting the change in Training and Validaiton MSE with respect to degree\n",
    "degree = np.arange(1,11)\n",
    "plot(degree)"
   ]
  },
  {
   "cell_type": "code",
   "execution_count": 17,
   "id": "77466309",
   "metadata": {},
   "outputs": [
    {
     "data": {
      "image/png": "[encoded data removed]",
      "text/plain": [
       "<Figure size 864x360 with 2 Axes>"
      ]
     },
     "metadata": {
      "needs_background": "light"
     },
     "output_type": "display_data"
    }
   ],
   "source": [
    "# plotting for only degrees 1 and 2\n",
    "degree= range(1,3)\n",
    "plot(degree)"
   ]
  },
  {
   "cell_type": "code",
   "execution_count": 18,
   "id": "ef1d36eb",
   "metadata": {},
   "outputs": [
    {
     "name": "stdout",
     "output_type": "stream",
     "text": [
      "The best polynomial degree is 1\n"
     ]
    }
   ],
   "source": [
    "# best polynomial degree is the degree with the least validation error\n",
    "degree = np.argmin(cv_mse)+1  # +1 becuase index = degree - 1\n",
    "print(f'The best polynomial degree is {degree}')"
   ]
  },
  {
   "cell_type": "code",
   "execution_count": 19,
   "id": "8ba63bd2",
   "metadata": {},
   "outputs": [],
   "source": [
    "# selecting the best model from models array\n",
    "best_model = models[degree-1]"
   ]
  },
  {
   "cell_type": "markdown",
   "id": "1f6881f7",
   "metadata": {},
   "source": [
    "## Test Error OR Generalization Error"
   ]
  },
  {
   "cell_type": "markdown",
   "id": "9681e75b",
   "metadata": {},
   "source": [
    " "
   ]
  },
  {
   "cell_type": "code",
   "execution_count": 20,
   "id": "807ff05d",
   "metadata": {},
   "outputs": [
    {
     "name": "stdout",
     "output_type": "stream",
     "text": [
      "Training set Mean square error = 225.9204\n",
      "Cross Validation set Mean square error = 233.2742\n",
      "Test set Mean square error = 369.8431\n"
     ]
    }
   ],
   "source": [
    "# adding polynomial feature to the test set\n",
    "poly = PolynomialFeatures(degree, include_bias = False)\n",
    "x_test_poly = poly.fit_transform(x_test)\n",
    "x_test_poly_scaled = scalers[degree-1].transform(x_test_poly)\n",
    "\n",
    "# making prediction on test dat\n",
    "pred = best_model.predict(x_test_poly_scaled)\n",
    "\n",
    "# calculating test mean squared error\n",
    "test_mse = mean_squared_error(y_test, pred)\n",
    "\n",
    "# Comparing all the Mean squared errors\n",
    "print(f'Training set Mean square error = {train_mse[degree-1]:.4f}')\n",
    "print(f'Cross Validation set Mean square error = {cv_mse[degree-1]:.4f}')\n",
    "print(f'Test set Mean square error = {test_mse:.4f}')"
   ]
  },
  {
   "cell_type": "code",
   "execution_count": 21,
   "id": "ecd09993",
   "metadata": {
    "scrolled": true
   },
   "outputs": [
    {
     "data": {
      "text/plain": [
       "0.9640406996179519"
      ]
     },
     "execution_count": 21,
     "metadata": {},
     "output_type": "execute_result"
    }
   ],
   "source": [
    "# model score\n",
    "best_model.score(x_test_poly_scaled, y_test)"
   ]
  },
  {
   "cell_type": "markdown",
   "id": "720648a0",
   "metadata": {},
   "source": [
    "## Saving the model and Scaler"
   ]
  },
  {
   "cell_type": "code",
   "execution_count": 22,
   "id": "cb89bbcb",
   "metadata": {},
   "outputs": [],
   "source": [
    "import joblib"
   ]
  },
  {
   "cell_type": "code",
   "execution_count": 23,
   "id": "d0de2acb",
   "metadata": {},
   "outputs": [
    {
     "data": {
      "text/plain": [
       "['saved_poly.joblib']"
      ]
     },
     "execution_count": 23,
     "metadata": {},
     "output_type": "execute_result"
    }
   ],
   "source": [
    "# saving the best model\n",
    "joblib.dump(best_model, 'saved_model.joblib')\n",
    "\n",
    "# saving scaler\n",
    "joblib.dump(scalers[degree-1], 'saved_scaler.joblib')\n",
    "\n",
    "# saving polynomial features\n",
    "joblib.dump(poly, 'saved_poly.joblib')"
   ]
  },
  {
   "cell_type": "markdown",
   "id": "2e28bc83",
   "metadata": {},
   "source": [
    "## Making prediction using the saved model"
   ]
  },
  {
   "cell_type": "code",
   "execution_count": 67,
   "id": "cd452e1b",
   "metadata": {},
   "outputs": [],
   "source": [
    "# loading the trained model\n",
    "saved_model = joblib.load('saved_model.joblib')\n",
    "\n",
    "# loading scaler\n",
    "saved_scaler = joblib.load('saved_scaler.joblib')\n",
    "\n",
    "# loading polynomial features\n",
    "saved_poly = joblib.load('saved_poly.joblib')"
   ]
  },
  {
   "cell_type": "code",
   "execution_count": 70,
   "id": "8f9c6933",
   "metadata": {
    "scrolled": true
   },
   "outputs": [
    {
     "name": "stdout",
     "output_type": "stream",
     "text": [
      "Enter the following data:\n",
      "\n",
      "size(sqft)\n",
      "1200\n",
      "bedrooms\n",
      "3\n",
      "floors\n",
      "2\n",
      "age\n",
      "20\n"
     ]
    },
    {
     "data": {
      "text/plain": [
       "array([[1200.,    3.,    2.,   20.]])"
      ]
     },
     "execution_count": 70,
     "metadata": {},
     "output_type": "execute_result"
    }
   ],
   "source": [
    "# taking input features to make predicting\n",
    "print('Enter the following data:\\n')\n",
    "x_input = []\n",
    "for i in range(len(features)):\n",
    "    print(features[i])\n",
    "    x_i = float(input())\n",
    "    x_input.append(x_i)\n",
    "\n",
    "# converting input into numpy array\n",
    "x_input = np.array(x_input).reshape(1, len(features))\n",
    "x_input"
   ]
  },
  {
   "cell_type": "code",
   "execution_count": 71,
   "id": "51bff062",
   "metadata": {},
   "outputs": [
    {
     "name": "stdout",
     "output_type": "stream",
     "text": [
      "The housing price is expected to be: $275.704 thousand \n"
     ]
    }
   ],
   "source": [
    "# adding polynomial features\n",
    "x_input_poly = saved_poly.transform(x_input)\n",
    "\n",
    "# scaling the input features\n",
    "x_input_scaled = saved_scaler.transform(x_input_poly)\n",
    "\n",
    "# making prediction\n",
    "pred = saved_model.predict(x_input_scaled)\n",
    "\n",
    "# displaying the predicted value\n",
    "print(f'The housing price is expected to be: ${pred[0]:.3f} thousand ')"
   ]
  },
  {
   "cell_type": "code",
   "execution_count": 52,
   "id": "0b64779a",
   "metadata": {},
   "outputs": [],
   "source": []
  }
 ],
 "metadata": {
  "kernelspec": {
   "display_name": "Python 3 (ipykernel)",
   "language": "python",
   "name": "python3"
  },
  "language_info": {
   "codemirror_mode": {
    "name": "ipython",
    "version": 3
   },
   "file_extension": ".py",
   "mimetype": "text/x-python",
   "name": "python",
   "nbconvert_exporter": "python",
   "pygments_lexer": "ipython3",
   "version": "3.10.4"
  }
 },
 "nbformat": 4,
 "nbformat_minor": 5
}
